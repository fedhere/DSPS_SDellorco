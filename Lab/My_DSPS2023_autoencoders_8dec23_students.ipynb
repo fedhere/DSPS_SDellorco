{
  "nbformat": 4,
  "nbformat_minor": 0,
  "metadata": {
    "colab": {
      "provenance": [],
      "gpuType": "T4",
      "include_colab_link": true
    },
    "kernelspec": {
      "name": "python3",
      "display_name": "Python 3"
    },
    "language_info": {
      "name": "python"
    },
    "accelerator": "GPU"
  },
  "cells": [
    {
      "cell_type": "markdown",
      "metadata": {
        "id": "view-in-github",
        "colab_type": "text"
      },
      "source": [
        "<a href=\"https://colab.research.google.com/github/sarahdell/DSPS_SDellorco/blob/main/Lab/My_DSPS2023_autoencoders_8dec23_students.ipynb\" target=\"_parent\"><img src=\"https://colab.research.google.com/assets/colab-badge.svg\" alt=\"Open In Colab\"/></a>"
      ]
    },
    {
      "cell_type": "code",
      "execution_count": 1,
      "metadata": {
        "id": "RuoNYW1mOwbm",
        "colab": {
          "base_uri": "https://localhost:8080/"
        },
        "outputId": "de8b3497-9f41-4fbf-aac3-367f59ac5863"
      },
      "outputs": [
        {
          "output_type": "stream",
          "name": "stdout",
          "text": [
            "Collecting icecream\n",
            "  Downloading icecream-2.1.3-py2.py3-none-any.whl (8.4 kB)\n",
            "Collecting colorama>=0.3.9 (from icecream)\n",
            "  Downloading colorama-0.4.6-py2.py3-none-any.whl (25 kB)\n",
            "Requirement already satisfied: pygments>=2.2.0 in /usr/local/lib/python3.10/dist-packages (from icecream) (2.16.1)\n",
            "Collecting executing>=0.3.1 (from icecream)\n",
            "  Downloading executing-2.0.1-py2.py3-none-any.whl (24 kB)\n",
            "Collecting asttokens>=2.0.1 (from icecream)\n",
            "  Downloading asttokens-2.4.1-py2.py3-none-any.whl (27 kB)\n",
            "Requirement already satisfied: six>=1.12.0 in /usr/local/lib/python3.10/dist-packages (from asttokens>=2.0.1->icecream) (1.16.0)\n",
            "Installing collected packages: executing, colorama, asttokens, icecream\n",
            "Successfully installed asttokens-2.4.1 colorama-0.4.6 executing-2.0.1 icecream-2.1.3\n"
          ]
        }
      ],
      "source": [
        "from copy import deepcopy\n",
        "\n",
        "import numpy as np\n",
        "import pandas as pd\n",
        "from matplotlib import pyplot as plt\n",
        "from scipy import stats\n",
        "from scipy.signal import convolve2d\n",
        "\n",
        "from tensorflow import keras\n",
        "from keras.datasets import mnist\n",
        "from keras import layers\n",
        "\n",
        "!pip install icecream\n",
        "from icecream import ic\n",
        "\n",
        "rng = np.random.RandomState(1415)"
      ]
    },
    {
      "cell_type": "markdown",
      "source": [
        "# Load MNIST data"
      ],
      "metadata": {
        "id": "_oo3vtrPR_3c"
      }
    },
    {
      "cell_type": "code",
      "source": [
        "# Load the data and split it between train and test sets\n",
        "(Xtrn, Ytrn), (Xtst, Ytst) = mnist.load_data()"
      ],
      "metadata": {
        "id": "dpyQjiCNPqc_",
        "colab": {
          "base_uri": "https://localhost:8080/"
        },
        "outputId": "6e97e317-e2fa-4d36-e7c9-5727931161e8"
      },
      "execution_count": 2,
      "outputs": [
        {
          "output_type": "stream",
          "name": "stdout",
          "text": [
            "Downloading data from https://storage.googleapis.com/tensorflow/tf-keras-datasets/mnist.npz\n",
            "11490434/11490434 [==============================] - 0s 0us/step\n"
          ]
        }
      ]
    },
    {
      "cell_type": "markdown",
      "source": [
        "# Visualize dataset"
      ],
      "metadata": {
        "id": "fH-viokjSBY2"
      }
    },
    {
      "cell_type": "code",
      "source": [
        "Xtrn.shape #28 pixels high and 28 pixels across, 600000 handwritten number samples"
      ],
      "metadata": {
        "id": "80PJ4mgLQBC4",
        "colab": {
          "base_uri": "https://localhost:8080/"
        },
        "outputId": "0de454f7-c94e-4e41-f0d0-057f91a2695b"
      },
      "execution_count": 8,
      "outputs": [
        {
          "output_type": "execute_result",
          "data": {
            "text/plain": [
              "(60000, 28, 28)"
            ]
          },
          "metadata": {},
          "execution_count": 8
        }
      ]
    },
    {
      "cell_type": "code",
      "source": [
        "Ytrn.shape, Xtst.shape, Ytst.shape"
      ],
      "metadata": {
        "colab": {
          "base_uri": "https://localhost:8080/"
        },
        "id": "kWfUzLVPFG0p",
        "outputId": "04d94f4b-55c6-415e-e629-75fc77bea85f"
      },
      "execution_count": 9,
      "outputs": [
        {
          "output_type": "execute_result",
          "data": {
            "text/plain": [
              "((60000,), (10000, 28, 28), (10000,))"
            ]
          },
          "metadata": {},
          "execution_count": 9
        }
      ]
    },
    {
      "cell_type": "code",
      "source": [
        "np.unique(Ytrn) #tells values of handwritten numbers"
      ],
      "metadata": {
        "colab": {
          "base_uri": "https://localhost:8080/"
        },
        "id": "Qf0GCIFvFOzO",
        "outputId": "31523593-9167-4cd5-d804-3f0ca0bb5a01"
      },
      "execution_count": 10,
      "outputs": [
        {
          "output_type": "execute_result",
          "data": {
            "text/plain": [
              "array([0, 1, 2, 3, 4, 5, 6, 7, 8, 9], dtype=uint8)"
            ]
          },
          "metadata": {},
          "execution_count": 10
        }
      ]
    },
    {
      "cell_type": "code",
      "source": [
        "def plot_images(images, labels, nrows=5, ncols=5, vmin=0, vmax=255):\n",
        "  fig, axes =plt.subplots(nrows,ncols,sharex=True,sharey=True, figsize=(8,8)) #figsize in inches, share axes means the plots all share the same axes\n",
        "  for i in range(nrows*ncols):\n",
        "    ax=axes.flatten()[i]\n",
        "    image=images[i]\n",
        "    label=labels[i]\n",
        "\n",
        "    ax.set_title(label)\n",
        "    ax.imshow(image, vmin=vmin, vmax=vmax, cmap=\"Greys\")\n",
        "    ax.set_aspect('equal')\n",
        "    ax.axis(\"off\")\n",
        "  fig.tight_layout()\n",
        "  fig.show()\n",
        "\n",
        "plot_images(Xtrn,Ytrn)"
      ],
      "metadata": {
        "colab": {
          "base_uri": "https://localhost:8080/",
          "height": 806
        },
        "id": "o4qSrtz9FaiO",
        "outputId": "0b0615c1-d39a-483a-d7cb-1fa33824eeba"
      },
      "execution_count": 12,
      "outputs": [
        {
          "output_type": "display_data",
          "data": {
            "text/plain": [
              "<Figure size 800x800 with 25 Axes>"
            ],
            "image/png": "[encoded data removed]"
          },
          "metadata": {}
        }
      ]
    },
    {
      "cell_type": "markdown",
      "source": [
        "# Normalize the images"
      ],
      "metadata": {
        "id": "H_KmtM6oSFKv"
      }
    },
    {
      "cell_type": "code",
      "source": [
        "def normalize_255(array):\n",
        "  normed_array=array/255\n",
        "  return normed_array\n",
        "\n",
        "XtrnN=normalize_255(Xtrn)\n",
        "XtstN=normalize_255(Xtst)\n",
        "\n",
        "XtrnN.min(), XtrnN.max()"
      ],
      "metadata": {
        "id": "AgjOHLXyQZHX",
        "colab": {
          "base_uri": "https://localhost:8080/"
        },
        "outputId": "9fec887a-7230-4898-ad1b-a7340acbc835"
      },
      "execution_count": 14,
      "outputs": [
        {
          "output_type": "execute_result",
          "data": {
            "text/plain": [
              "(0.0, 1.0)"
            ]
          },
          "metadata": {},
          "execution_count": 14
        }
      ]
    },
    {
      "cell_type": "markdown",
      "source": [
        "# Reshape the arrays for Keras"
      ],
      "metadata": {
        "id": "QH1ZOFAcSIX2"
      }
    },
    {
      "cell_type": "code",
      "source": [
        "XtrnN.shape"
      ],
      "metadata": {
        "colab": {
          "base_uri": "https://localhost:8080/"
        },
        "id": "AEtoiXnfHLr6",
        "outputId": "6bc9c860-24c5-44d0-f433-78421d933941"
      },
      "execution_count": 15,
      "outputs": [
        {
          "output_type": "execute_result",
          "data": {
            "text/plain": [
              "(60000, 28, 28)"
            ]
          },
          "metadata": {},
          "execution_count": 15
        }
      ]
    },
    {
      "cell_type": "code",
      "source": [
        "def reshape_for_keras(array):\n",
        "  reshaped_array = array[...,None] #... indexes all of the dimensions, None at the end means add another axis\n",
        "  return reshaped_array\n",
        "XtrnNR = reshape_for_keras(XtrnN)\n",
        "XtstNR = reshape_for_keras(XtstN)\n",
        "\n",
        "XtrnNR.shape #has 4 values since now we have 4 dimensions"
      ],
      "metadata": {
        "id": "kb2VmJ0TREBY",
        "colab": {
          "base_uri": "https://localhost:8080/"
        },
        "outputId": "46b1a4c1-31cb-4bd1-d7bd-a72555b2e5f3"
      },
      "execution_count": 19,
      "outputs": [
        {
          "output_type": "execute_result",
          "data": {
            "text/plain": [
              "(60000, 28, 28, 1)"
            ]
          },
          "metadata": {},
          "execution_count": 19
        }
      ]
    },
    {
      "cell_type": "markdown",
      "source": [
        "# One-hot encode the image labels"
      ],
      "metadata": {
        "id": "EbKTdfYeSK72"
      }
    },
    {
      "cell_type": "code",
      "source": [
        "YtrnOH=keras.utils.to_categorical(Ytrn, 10) #don't care because we don't need the labels\n",
        "\n",
        "YtrnOH.shape"
      ],
      "metadata": {
        "id": "GtTQHFepRONH",
        "colab": {
          "base_uri": "https://localhost:8080/"
        },
        "outputId": "6775dfa0-ea72-4244-a3d4-8a27fa846c60"
      },
      "execution_count": 17,
      "outputs": [
        {
          "output_type": "execute_result",
          "data": {
            "text/plain": [
              "(60000, 10)"
            ]
          },
          "metadata": {},
          "execution_count": 17
        }
      ]
    },
    {
      "cell_type": "markdown",
      "source": [
        "# But wait we don't need the image labels...\n",
        "\n",
        "### The training set will be the images at half resolution, and the model will try to up-sample the images to the original resolution... `Xtrn` should be the same 60,000 images at half resolution, but `Ytrn` should be those same images at the original resolution. We will do the same operations for the testing set."
      ],
      "metadata": {
        "id": "_S-EMSNOSNLu"
      }
    },
    {
      "cell_type": "markdown",
      "source": [
        "# Construct dataset for superresolution, not image classification"
      ],
      "metadata": {
        "id": "SQL_p2chUiaj"
      }
    },
    {
      "cell_type": "code",
      "source": [
        "def build_superres_dataset_from_mnist(X):\n",
        "  Xnew = deepcopy(X)[:,::2,::2,:] #makes it so there is no relationship between the old object and the new object in the code\n",
        "  Ynew = deepcopy(X)\n",
        "\n",
        "  return Xnew, Ynew\n",
        "\n",
        "XtrnSR, YtrnSR = build_superres_dataset_from_mnist(XtrnNR)\n",
        "XtstSR, YtstSR = build_superres_dataset_from_mnist(XtstNR)\n",
        "\n",
        "XtrnSR.shape,YtrnSR.shape,XtstSR.shape,YtstSR.shape,"
      ],
      "metadata": {
        "id": "rBk9ZWqPSSoz",
        "colab": {
          "base_uri": "https://localhost:8080/"
        },
        "outputId": "c364b206-f67c-4ea9-8770-f792a9d1ab07"
      },
      "execution_count": 18,
      "outputs": [
        {
          "output_type": "execute_result",
          "data": {
            "text/plain": [
              "((60000, 14, 14, 1),\n",
              " (60000, 28, 28, 1),\n",
              " (10000, 14, 14, 1),\n",
              " (10000, 28, 28, 1))"
            ]
          },
          "metadata": {},
          "execution_count": 18
        }
      ]
    },
    {
      "cell_type": "markdown",
      "source": [
        "# Visualize the new dataset"
      ],
      "metadata": {
        "id": "OuAwvxvmUn3_"
      }
    },
    {
      "cell_type": "code",
      "source": [
        "plot_images(XtrnSR[:,:,:,0], Ytrn, vmax=1) #half resolution images"
      ],
      "metadata": {
        "id": "XZYF2GJHTllR",
        "colab": {
          "base_uri": "https://localhost:8080/",
          "height": 806
        },
        "outputId": "e969a7ec-a312-43bc-f790-8e4b06cd1ca0"
      },
      "execution_count": 22,
      "outputs": [
        {
          "output_type": "display_data",
          "data": {
            "text/plain": [
              "<Figure size 800x800 with 25 Axes>"
            ],
            "image/png": "[encoded data removed]"
          },
          "metadata": {}
        }
      ]
    },
    {
      "cell_type": "markdown",
      "source": [
        "# Build the CNN autoencoder"
      ],
      "metadata": {
        "id": "TfehgOBqdDRw"
      }
    },
    {
      "cell_type": "code",
      "source": [
        "def build_cnn_autoencoder(input_shape):\n",
        "  inputs = layers.Input(shape=input_shape)\n",
        "\n",
        "  #The encoder\n",
        "  x = layers.Conv2D(16, kernel_size=(3,3), padding=\"same\", activation='relu')(inputs) #convolution layer\n",
        "  x = layers.Conv2D(8, kernel_size=(3,3), padding=\"same\", activation='relu')(x) #each first number gets halved to reduce the nodes in the layer\n",
        "  x = layers.Conv2D(4, kernel_size=(3,3), padding=\"same\", activation='relu')(x)\n",
        "  x = layers.MaxPooling2D(pool_size=(2,2))(x)\n",
        "\n",
        "  shape = x.shape\n",
        "  num_neurons=shape[1] * shape[2] * shape[3] #this is the shape of the next x layer\n",
        "\n",
        "  #The latent space\n",
        "  x=layers.Flatten()(x)\n",
        "  LS=layers.Dense(16, activation='relu')(x) # at middle point here\n",
        "  x = layers.Dense(num_neurons, activation='relu')(LS)\n",
        "  x = layers.Reshape(shape[1:])(x)\n",
        "  #The decoder\n",
        "  x = layers.Conv2DTranspose(4, kernel_size=(3,3), padding=\"same\", activation='relu')(x)\n",
        "  x = layers.Conv2DTranspose(8, kernel_size=(3,3), padding=\"same\", activation='relu')(x)\n",
        "  x = layers.Conv2DTranspose(16, kernel_size=(3,3), padding=\"same\", activation='relu')(x)\n",
        "  x = layers.UpSampling2D(size=(2,2))(x) #doubling the resolution\n",
        "\n",
        "  x = layers.Conv2DTranspose(16, kernel_size=(3,3), padding=\"same\", activation='relu')(x)\n",
        "  x = layers.Conv2DTranspose(16, kernel_size=(3,3), padding=\"same\", activation='relu')(x)\n",
        "  x = layers.Conv2DTranspose(16, kernel_size=(3,3), padding=\"same\", activation='relu')(x) #all at 14 by 14, want to get to 28 by 28 like we had originally\n",
        "  x = layers.UpSampling2D(size=(2,2))(x)\n",
        "\n",
        "  x = layers.Conv2DTranspose(16, kernel_size=(3,3), padding=\"same\", activation='sigmoid')(x)\n",
        "  x = layers.Conv2DTranspose(16, kernel_size=(3,3), padding=\"same\", activation='sigmoid')(x)\n",
        "  outputs = layers.Conv2DTranspose(1, kernel_size=(3,3), padding=\"same\", activation='sigmoid')(x)\n",
        "\n",
        "  model=keras.Model(inputs,outputs)\n",
        "\n",
        "  encoder=keras.Model(inputs, LS)\n",
        "  decoder=keras.Model(LS,outputs)#LS is Latent Space\n",
        "  return model,encoder,decoder\n",
        "\n",
        "input_shape=XtrnSR.shape[1:]\n",
        "model, encoder, decoder=build_cnn_autoencoder(input_shape)\n",
        "model.summary()"
      ],
      "metadata": {
        "id": "5eIGf4EVRZBJ",
        "colab": {
          "base_uri": "https://localhost:8080/"
        },
        "outputId": "59fcbfde-96dd-4e54-861d-ea9e81f03dc8"
      },
      "execution_count": 25,
      "outputs": [
        {
          "output_type": "stream",
          "name": "stdout",
          "text": [
            "Model: \"model_3\"\n",
            "_________________________________________________________________\n",
            " Layer (type)                Output Shape              Param #   \n",
            "=================================================================\n",
            " input_3 (InputLayer)        [(None, 14, 14, 1)]       0         \n",
            "                                                                 \n",
            " conv2d_3 (Conv2D)           (None, 14, 14, 16)        160       \n",
            "                                                                 \n",
            " conv2d_4 (Conv2D)           (None, 14, 14, 8)         1160      \n",
            "                                                                 \n",
            " conv2d_5 (Conv2D)           (None, 14, 14, 4)         292       \n",
            "                                                                 \n",
            " max_pooling2d_1 (MaxPoolin  (None, 7, 7, 4)           0         \n",
            " g2D)                                                            \n",
            "                                                                 \n",
            " flatten_1 (Flatten)         (None, 196)               0         \n",
            "                                                                 \n",
            " dense_2 (Dense)             (None, 16)                3152      \n",
            "                                                                 \n",
            " dense_3 (Dense)             (None, 196)               3332      \n",
            "                                                                 \n",
            " reshape_1 (Reshape)         (None, 7, 7, 4)           0         \n",
            "                                                                 \n",
            " conv2d_transpose_9 (Conv2D  (None, 7, 7, 4)           148       \n",
            " Transpose)                                                      \n",
            "                                                                 \n",
            " conv2d_transpose_10 (Conv2  (None, 7, 7, 8)           296       \n",
            " DTranspose)                                                     \n",
            "                                                                 \n",
            " conv2d_transpose_11 (Conv2  (None, 7, 7, 16)          1168      \n",
            " DTranspose)                                                     \n",
            "                                                                 \n",
            " up_sampling2d_2 (UpSamplin  (None, 14, 14, 16)        0         \n",
            " g2D)                                                            \n",
            "                                                                 \n",
            " conv2d_transpose_12 (Conv2  (None, 14, 14, 16)        2320      \n",
            " DTranspose)                                                     \n",
            "                                                                 \n",
            " conv2d_transpose_13 (Conv2  (None, 14, 14, 16)        2320      \n",
            " DTranspose)                                                     \n",
            "                                                                 \n",
            " conv2d_transpose_14 (Conv2  (None, 14, 14, 16)        2320      \n",
            " DTranspose)                                                     \n",
            "                                                                 \n",
            " up_sampling2d_3 (UpSamplin  (None, 28, 28, 16)        0         \n",
            " g2D)                                                            \n",
            "                                                                 \n",
            " conv2d_transpose_15 (Conv2  (None, 28, 28, 16)        2320      \n",
            " DTranspose)                                                     \n",
            "                                                                 \n",
            " conv2d_transpose_16 (Conv2  (None, 28, 28, 16)        2320      \n",
            " DTranspose)                                                     \n",
            "                                                                 \n",
            " conv2d_transpose_17 (Conv2  (None, 28, 28, 1)         145       \n",
            " DTranspose)                                                     \n",
            "                                                                 \n",
            "=================================================================\n",
            "Total params: 21453 (83.80 KB)\n",
            "Trainable params: 21453 (83.80 KB)\n",
            "Non-trainable params: 0 (0.00 Byte)\n",
            "_________________________________________________________________\n"
          ]
        }
      ]
    },
    {
      "cell_type": "markdown",
      "source": [
        "# Train the model (use a GPU)"
      ],
      "metadata": {
        "id": "e9dOm3UVdFbF"
      }
    },
    {
      "cell_type": "code",
      "source": [
        "model.compile(loss=\"mse\", optimizer=\"adam\")#use mse like a regression function\n",
        "history = model.fit(XtrnSR, YtrnSR, batch_size=256, epochs=15, validation_split=0.1)"
      ],
      "metadata": {
        "id": "NTgClN6JWu3G",
        "colab": {
          "base_uri": "https://localhost:8080/"
        },
        "outputId": "d20e7aa7-44bc-4f5e-bc51-7a24cae9a355"
      },
      "execution_count": 26,
      "outputs": [
        {
          "output_type": "stream",
          "name": "stdout",
          "text": [
            "Epoch 1/15\n",
            "211/211 [==============================] - 18s 19ms/step - loss: 0.1303 - val_loss: 0.0952\n",
            "Epoch 2/15\n",
            "211/211 [==============================] - 3s 12ms/step - loss: 0.0785 - val_loss: 0.0536\n",
            "Epoch 3/15\n",
            "211/211 [==============================] - 3s 13ms/step - loss: 0.0416 - val_loss: 0.0332\n",
            "Epoch 4/15\n",
            "211/211 [==============================] - 3s 14ms/step - loss: 0.0299 - val_loss: 0.0266\n",
            "Epoch 5/15\n",
            "211/211 [==============================] - 3s 14ms/step - loss: 0.0252 - val_loss: 0.0238\n",
            "Epoch 6/15\n",
            "211/211 [==============================] - 3s 14ms/step - loss: 0.0228 - val_loss: 0.0215\n",
            "Epoch 7/15\n",
            "211/211 [==============================] - 3s 13ms/step - loss: 0.0211 - val_loss: 0.0206\n",
            "Epoch 8/15\n",
            "211/211 [==============================] - 3s 13ms/step - loss: 0.0199 - val_loss: 0.0191\n",
            "Epoch 9/15\n",
            "211/211 [==============================] - 3s 13ms/step - loss: 0.0190 - val_loss: 0.0185\n",
            "Epoch 10/15\n",
            "211/211 [==============================] - 3s 14ms/step - loss: 0.0183 - val_loss: 0.0177\n",
            "Epoch 11/15\n",
            "211/211 [==============================] - 3s 14ms/step - loss: 0.0177 - val_loss: 0.0179\n",
            "Epoch 12/15\n",
            "211/211 [==============================] - 3s 13ms/step - loss: 0.0172 - val_loss: 0.0172\n",
            "Epoch 13/15\n",
            "211/211 [==============================] - 3s 13ms/step - loss: 0.0168 - val_loss: 0.0165\n",
            "Epoch 14/15\n",
            "211/211 [==============================] - 3s 13ms/step - loss: 0.0165 - val_loss: 0.0162\n",
            "Epoch 15/15\n",
            "211/211 [==============================] - 3s 15ms/step - loss: 0.0162 - val_loss: 0.0160\n"
          ]
        }
      ]
    },
    {
      "cell_type": "markdown",
      "source": [
        "# Visualize loss curve"
      ],
      "metadata": {
        "id": "jCtssCsCghLu"
      }
    },
    {
      "cell_type": "code",
      "source": [],
      "metadata": {
        "id": "y36uoQebmCpA"
      },
      "execution_count": null,
      "outputs": []
    },
    {
      "cell_type": "markdown",
      "source": [
        "# Visualize the predictions"
      ],
      "metadata": {
        "id": "1YvnvNBhdIMW"
      }
    },
    {
      "cell_type": "code",
      "source": [
        "PtstSR=model.predict(XtstSR)#P for predict\n",
        "PtstSR.shape"
      ],
      "metadata": {
        "id": "zIEoOmPiZ_Sg",
        "colab": {
          "base_uri": "https://localhost:8080/"
        },
        "outputId": "fafc6ebc-a2fa-4643-ae27-6ef57840a0c0"
      },
      "execution_count": 27,
      "outputs": [
        {
          "output_type": "stream",
          "name": "stdout",
          "text": [
            "313/313 [==============================] - 1s 3ms/step\n"
          ]
        },
        {
          "output_type": "execute_result",
          "data": {
            "text/plain": [
              "(10000, 28, 28, 1)"
            ]
          },
          "metadata": {},
          "execution_count": 27
        }
      ]
    },
    {
      "cell_type": "code",
      "source": [
        "plot_images(XtstSR[..., 0],Ytst, nrows=1,ncols=8,vmax=1) #half resolution images"
      ],
      "metadata": {
        "id": "73a4iYicbVP0",
        "colab": {
          "base_uri": "https://localhost:8080/",
          "height": 142
        },
        "outputId": "c2de7a45-d0c2-46bc-fa7d-6725693c9abf"
      },
      "execution_count": 28,
      "outputs": [
        {
          "output_type": "display_data",
          "data": {
            "text/plain": [
              "<Figure size 800x800 with 8 Axes>"
            ],
            "image/png": "[encoded data removed]"
          },
          "metadata": {}
        }
      ]
    },
    {
      "cell_type": "code",
      "source": [
        "plot_images(YtstSR[..., 0],Ytst, nrows=1,ncols=8,vmax=1) #what they should be"
      ],
      "metadata": {
        "id": "jjq6VYGeaoqN",
        "colab": {
          "base_uri": "https://localhost:8080/",
          "height": 142
        },
        "outputId": "93df75ad-909d-4d34-945a-389fadff3230"
      },
      "execution_count": 29,
      "outputs": [
        {
          "output_type": "display_data",
          "data": {
            "text/plain": [
              "<Figure size 800x800 with 8 Axes>"
            ],
            "image/png": "[encoded data removed]"
          },
          "metadata": {}
        }
      ]
    },
    {
      "cell_type": "code",
      "source": [
        "plot_images(PtstSR[..., 0],Ytst, nrows=1,ncols=8,vmax=1) #predicted after rebuilding"
      ],
      "metadata": {
        "id": "7sgzfBxPa3fV",
        "colab": {
          "base_uri": "https://localhost:8080/",
          "height": 142
        },
        "outputId": "38c2adb9-6845-4884-b3da-ee3d5ef10c42"
      },
      "execution_count": 30,
      "outputs": [
        {
          "output_type": "display_data",
          "data": {
            "text/plain": [
              "<Figure size 800x800 with 8 Axes>"
            ],
            "image/png": "[encoded data removed]"
          },
          "metadata": {}
        }
      ]
    },
    {
      "cell_type": "markdown",
      "source": [
        "# Visualize the early layers"
      ],
      "metadata": {
        "id": "PWOoDXjOl4JM"
      }
    },
    {
      "cell_type": "code",
      "source": [
        "model.layers[1].get_weights()[0].shape #1 is not input layer, its the second layer since index starts at 0\n",
        "#16 filters, 3 kernals?"
      ],
      "metadata": {
        "id": "W8OSOKV4ogFz",
        "colab": {
          "base_uri": "https://localhost:8080/"
        },
        "outputId": "66bf8ff8-c5b8-4935-91c3-5240740c9227"
      },
      "execution_count": 33,
      "outputs": [
        {
          "output_type": "execute_result",
          "data": {
            "text/plain": [
              "(3, 3, 1, 16)"
            ]
          },
          "metadata": {},
          "execution_count": 33
        }
      ]
    },
    {
      "cell_type": "markdown",
      "source": [
        "# Visualize the latent space with the encoder and decoder on their own"
      ],
      "metadata": {
        "id": "yBA74IWmdeXO"
      }
    },
    {
      "cell_type": "code",
      "source": [
        "encoder.summary()"
      ],
      "metadata": {
        "id": "llfM7QbAbOns",
        "colab": {
          "base_uri": "https://localhost:8080/"
        },
        "outputId": "66c617e2-5080-40a4-9249-9067235014ca"
      },
      "execution_count": 34,
      "outputs": [
        {
          "output_type": "stream",
          "name": "stdout",
          "text": [
            "Model: \"model_4\"\n",
            "_________________________________________________________________\n",
            " Layer (type)                Output Shape              Param #   \n",
            "=================================================================\n",
            " input_3 (InputLayer)        [(None, 14, 14, 1)]       0         \n",
            "                                                                 \n",
            " conv2d_3 (Conv2D)           (None, 14, 14, 16)        160       \n",
            "                                                                 \n",
            " conv2d_4 (Conv2D)           (None, 14, 14, 8)         1160      \n",
            "                                                                 \n",
            " conv2d_5 (Conv2D)           (None, 14, 14, 4)         292       \n",
            "                                                                 \n",
            " max_pooling2d_1 (MaxPoolin  (None, 7, 7, 4)           0         \n",
            " g2D)                                                            \n",
            "                                                                 \n",
            " flatten_1 (Flatten)         (None, 196)               0         \n",
            "                                                                 \n",
            " dense_2 (Dense)             (None, 16)                3152      \n",
            "                                                                 \n",
            "=================================================================\n",
            "Total params: 4764 (18.61 KB)\n",
            "Trainable params: 4764 (18.61 KB)\n",
            "Non-trainable params: 0 (0.00 Byte)\n",
            "_________________________________________________________________\n"
          ]
        }
      ]
    },
    {
      "cell_type": "code",
      "source": [
        "LS = encoder.predict(XtstSR)\n",
        "ic(LS.shape)\n",
        "LS_images=LS.reshape((10_000,4,4))"
      ],
      "metadata": {
        "id": "ltZGX-Jgd96g",
        "colab": {
          "base_uri": "https://localhost:8080/"
        },
        "outputId": "68b62d0b-d9df-4c54-9d99-3dce71122a8f"
      },
      "execution_count": 35,
      "outputs": [
        {
          "output_type": "stream",
          "name": "stdout",
          "text": [
            "313/313 [==============================] - 1s 2ms/step\n"
          ]
        },
        {
          "output_type": "stream",
          "name": "stderr",
          "text": [
            "ic| LS.shape: (10000, 16)\n"
          ]
        }
      ]
    },
    {
      "cell_type": "markdown",
      "source": [
        "# Find the average latent space representation for each digit"
      ],
      "metadata": {
        "id": "7Th9g_8xsIRA"
      }
    },
    {
      "cell_type": "markdown",
      "source": [
        "# Decode latent space representations with the decoder"
      ],
      "metadata": {
        "id": "OyXR1YJ9sL0W"
      }
    },
    {
      "cell_type": "code",
      "source": [],
      "metadata": {
        "id": "m13lhu0SdxJ8"
      },
      "execution_count": null,
      "outputs": []
    },
    {
      "cell_type": "code",
      "source": [],
      "metadata": {
        "id": "_kFN0xDQfo9k"
      },
      "execution_count": null,
      "outputs": []
    },
    {
      "cell_type": "code",
      "source": [],
      "metadata": {
        "id": "zUyI6MJkftue"
      },
      "execution_count": null,
      "outputs": []
    },
    {
      "cell_type": "markdown",
      "source": [
        "# What if we input something in the latent space by hand and then decode it?"
      ],
      "metadata": {
        "id": "38mBopGng7PY"
      }
    },
    {
      "cell_type": "code",
      "source": [],
      "metadata": {
        "id": "MVp5P3UFinnT"
      },
      "execution_count": null,
      "outputs": []
    },
    {
      "cell_type": "code",
      "source": [],
      "metadata": {
        "id": "l5arjDQ0hlAE"
      },
      "execution_count": null,
      "outputs": []
    },
    {
      "cell_type": "code",
      "source": [],
      "metadata": {
        "id": "kEGBOQjKhzSs"
      },
      "execution_count": null,
      "outputs": []
    }
  ]
}